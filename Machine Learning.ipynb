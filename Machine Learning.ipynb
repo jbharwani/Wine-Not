{
 "cells": [
  {
   "cell_type": "markdown",
   "metadata": {},
   "source": [
    "# Machine Learning "
   ]
  },
  {
   "cell_type": "code",
   "execution_count": 1,
   "metadata": {},
   "outputs": [],
   "source": [
    "import pandas as pd\n",
    "import numpy as np\n",
    "import nltk\n",
    "\n",
    "from sklearn.model_selection import train_test_split\n",
    "from sklearn.ensemble import RandomForestClassifier\n",
    "from sklearn.preprocessing import OneHotEncoder\n",
    "from sklearn.neighbors import KNeighborsClassifier\n",
    "from sklearn.ensemble import GradientBoostingClassifier\n",
    "\n",
    "\n",
    "import seaborn as sns\n",
    "import matplotlib.pyplot as plt\n",
    "from scipy.sparse.linalg import svds\n",
    "from sklearn.tree import DecisionTreeClassifier\n",
    "from sklearn.linear_model import LogisticRegression\n",
    "from sklearn.linear_model import SGDClassifier\n",
    "from sklearn.metrics import *"
   ]
  },
  {
   "cell_type": "markdown",
   "metadata": {},
   "source": [
    "## Wine Reviews"
   ]
  },
  {
   "cell_type": "code",
   "execution_count": 2,
   "metadata": {},
   "outputs": [],
   "source": [
    "wine_reviews = pd.read_json('wine-reviews/winemag-data-130k-v2.json')\n",
    "wine_reviews = wine_reviews.head(10000)\n",
    "# Preprocess\n",
    "common_years = range(1975,2017)[::-1]\n",
    "def getYear(row): \n",
    "    tokes = nltk.word_tokenize(row['title'])\n",
    "    for t in tokes:\n",
    "        try:\n",
    "            y = int(t)\n",
    "            if y in common_years:\n",
    "                return y\n",
    "        except:\n",
    "            continue\n",
    "    return 0\n",
    "    \n",
    "wine_reviews['year'] = wine_reviews.apply (lambda row: getYear(row), axis=1)\n",
    "wine_reviews = wine_reviews[np.isfinite(wine_reviews['year'])]\n",
    "wine_reviews = wine_reviews[(wine_reviews['year']) > 0]\n",
    "\n",
    "wine_reviews['tokens'] = wine_reviews.apply (lambda row: nltk.word_tokenize(row['description'].lower()),axis=1)\n",
    "\n",
    "wine_reviews = wine_reviews[np.isfinite(wine_reviews['price'])]\n",
    "wine_reviews = wine_reviews[np.isfinite(wine_reviews['points'])]"
   ]
  },
  {
   "cell_type": "code",
   "execution_count": 3,
   "metadata": {},
   "outputs": [
    {
     "data": {
      "text/html": [
       "<div>\n",
       "<style scoped>\n",
       "    .dataframe tbody tr th:only-of-type {\n",
       "        vertical-align: middle;\n",
       "    }\n",
       "\n",
       "    .dataframe tbody tr th {\n",
       "        vertical-align: top;\n",
       "    }\n",
       "\n",
       "    .dataframe thead th {\n",
       "        text-align: right;\n",
       "    }\n",
       "</style>\n",
       "<table border=\"1\" class=\"dataframe\">\n",
       "  <thead>\n",
       "    <tr style=\"text-align: right;\">\n",
       "      <th></th>\n",
       "      <th>country</th>\n",
       "      <th>description</th>\n",
       "      <th>designation</th>\n",
       "      <th>points</th>\n",
       "      <th>price</th>\n",
       "      <th>province</th>\n",
       "      <th>region_1</th>\n",
       "      <th>region_2</th>\n",
       "      <th>taster_name</th>\n",
       "      <th>taster_twitter_handle</th>\n",
       "      <th>title</th>\n",
       "      <th>variety</th>\n",
       "      <th>winery</th>\n",
       "      <th>year</th>\n",
       "      <th>tokens</th>\n",
       "    </tr>\n",
       "  </thead>\n",
       "  <tbody>\n",
       "    <tr>\n",
       "      <th>1</th>\n",
       "      <td>Portugal</td>\n",
       "      <td>This is ripe and fruity, a wine that is smooth...</td>\n",
       "      <td>Avidagos</td>\n",
       "      <td>87</td>\n",
       "      <td>15.0</td>\n",
       "      <td>Douro</td>\n",
       "      <td>None</td>\n",
       "      <td>None</td>\n",
       "      <td>Roger Voss</td>\n",
       "      <td>@vossroger</td>\n",
       "      <td>Quinta dos Avidagos 2011 Avidagos Red (Douro)</td>\n",
       "      <td>Portuguese Red</td>\n",
       "      <td>Quinta dos Avidagos</td>\n",
       "      <td>2011</td>\n",
       "      <td>[this, is, ripe, and, fruity, ,, a, wine, that...</td>\n",
       "    </tr>\n",
       "    <tr>\n",
       "      <th>2</th>\n",
       "      <td>US</td>\n",
       "      <td>Tart and snappy, the flavors of lime flesh and...</td>\n",
       "      <td>None</td>\n",
       "      <td>87</td>\n",
       "      <td>14.0</td>\n",
       "      <td>Oregon</td>\n",
       "      <td>Willamette Valley</td>\n",
       "      <td>Willamette Valley</td>\n",
       "      <td>Paul Gregutt</td>\n",
       "      <td>@paulgwine</td>\n",
       "      <td>Rainstorm 2013 Pinot Gris (Willamette Valley)</td>\n",
       "      <td>Pinot Gris</td>\n",
       "      <td>Rainstorm</td>\n",
       "      <td>2013</td>\n",
       "      <td>[tart, and, snappy, ,, the, flavors, of, lime,...</td>\n",
       "    </tr>\n",
       "    <tr>\n",
       "      <th>3</th>\n",
       "      <td>US</td>\n",
       "      <td>Pineapple rind, lemon pith and orange blossom ...</td>\n",
       "      <td>Reserve Late Harvest</td>\n",
       "      <td>87</td>\n",
       "      <td>13.0</td>\n",
       "      <td>Michigan</td>\n",
       "      <td>Lake Michigan Shore</td>\n",
       "      <td>None</td>\n",
       "      <td>Alexander Peartree</td>\n",
       "      <td>None</td>\n",
       "      <td>St. Julian 2013 Reserve Late Harvest Riesling ...</td>\n",
       "      <td>Riesling</td>\n",
       "      <td>St. Julian</td>\n",
       "      <td>2013</td>\n",
       "      <td>[pineapple, rind, ,, lemon, pith, and, orange,...</td>\n",
       "    </tr>\n",
       "    <tr>\n",
       "      <th>4</th>\n",
       "      <td>US</td>\n",
       "      <td>Much like the regular bottling from 2012, this...</td>\n",
       "      <td>Vintner's Reserve Wild Child Block</td>\n",
       "      <td>87</td>\n",
       "      <td>65.0</td>\n",
       "      <td>Oregon</td>\n",
       "      <td>Willamette Valley</td>\n",
       "      <td>Willamette Valley</td>\n",
       "      <td>Paul Gregutt</td>\n",
       "      <td>@paulgwine</td>\n",
       "      <td>Sweet Cheeks 2012 Vintner's Reserve Wild Child...</td>\n",
       "      <td>Pinot Noir</td>\n",
       "      <td>Sweet Cheeks</td>\n",
       "      <td>2012</td>\n",
       "      <td>[much, like, the, regular, bottling, from, 201...</td>\n",
       "    </tr>\n",
       "    <tr>\n",
       "      <th>5</th>\n",
       "      <td>Spain</td>\n",
       "      <td>Blackberry and raspberry aromas show a typical...</td>\n",
       "      <td>Ars In Vitro</td>\n",
       "      <td>87</td>\n",
       "      <td>15.0</td>\n",
       "      <td>Northern Spain</td>\n",
       "      <td>Navarra</td>\n",
       "      <td>None</td>\n",
       "      <td>Michael Schachner</td>\n",
       "      <td>@wineschach</td>\n",
       "      <td>Tandem 2011 Ars In Vitro Tempranillo-Merlot (N...</td>\n",
       "      <td>Tempranillo-Merlot</td>\n",
       "      <td>Tandem</td>\n",
       "      <td>2011</td>\n",
       "      <td>[blackberry, and, raspberry, aromas, show, a, ...</td>\n",
       "    </tr>\n",
       "  </tbody>\n",
       "</table>\n",
       "</div>"
      ],
      "text/plain": [
       "    country                                        description  \\\n",
       "1  Portugal  This is ripe and fruity, a wine that is smooth...   \n",
       "2        US  Tart and snappy, the flavors of lime flesh and...   \n",
       "3        US  Pineapple rind, lemon pith and orange blossom ...   \n",
       "4        US  Much like the regular bottling from 2012, this...   \n",
       "5     Spain  Blackberry and raspberry aromas show a typical...   \n",
       "\n",
       "                          designation  points  price        province  \\\n",
       "1                            Avidagos      87   15.0           Douro   \n",
       "2                                None      87   14.0          Oregon   \n",
       "3                Reserve Late Harvest      87   13.0        Michigan   \n",
       "4  Vintner's Reserve Wild Child Block      87   65.0          Oregon   \n",
       "5                        Ars In Vitro      87   15.0  Northern Spain   \n",
       "\n",
       "              region_1           region_2         taster_name  \\\n",
       "1                 None               None          Roger Voss   \n",
       "2    Willamette Valley  Willamette Valley        Paul Gregutt   \n",
       "3  Lake Michigan Shore               None  Alexander Peartree   \n",
       "4    Willamette Valley  Willamette Valley        Paul Gregutt   \n",
       "5              Navarra               None   Michael Schachner   \n",
       "\n",
       "  taster_twitter_handle                                              title  \\\n",
       "1            @vossroger      Quinta dos Avidagos 2011 Avidagos Red (Douro)   \n",
       "2           @paulgwine       Rainstorm 2013 Pinot Gris (Willamette Valley)   \n",
       "3                  None  St. Julian 2013 Reserve Late Harvest Riesling ...   \n",
       "4           @paulgwine   Sweet Cheeks 2012 Vintner's Reserve Wild Child...   \n",
       "5           @wineschach  Tandem 2011 Ars In Vitro Tempranillo-Merlot (N...   \n",
       "\n",
       "              variety               winery  year  \\\n",
       "1      Portuguese Red  Quinta dos Avidagos  2011   \n",
       "2          Pinot Gris            Rainstorm  2013   \n",
       "3            Riesling           St. Julian  2013   \n",
       "4          Pinot Noir         Sweet Cheeks  2012   \n",
       "5  Tempranillo-Merlot               Tandem  2011   \n",
       "\n",
       "                                              tokens  \n",
       "1  [this, is, ripe, and, fruity, ,, a, wine, that...  \n",
       "2  [tart, and, snappy, ,, the, flavors, of, lime,...  \n",
       "3  [pineapple, rind, ,, lemon, pith, and, orange,...  \n",
       "4  [much, like, the, regular, bottling, from, 201...  \n",
       "5  [blackberry, and, raspberry, aromas, show, a, ...  "
      ]
     },
     "execution_count": 3,
     "metadata": {},
     "output_type": "execute_result"
    }
   ],
   "source": [
    "wine_reviews.head()"
   ]
  },
  {
   "cell_type": "code",
   "execution_count": 4,
   "metadata": {},
   "outputs": [],
   "source": [
    "maps = []\n",
    "for feature in ['designation', 'province', 'winery', 'variety', 'year']:\n",
    "    unique = wine_reviews[feature].unique()\n",
    "    keys = range(unique.shape[0])\n",
    "    maps.append(dict(zip(unique, keys)))\n",
    "\n",
    "region_map = {}\n",
    "counter = 0\n",
    "for region in (wine_reviews[['region_1', 'region_2']].values).flatten():\n",
    "    if region not in region_map:\n",
    "        region_map[region] = counter\n",
    "        counter += 1\n",
    "maps.append(region_map)"
   ]
  },
  {
   "cell_type": "code",
   "execution_count": 5,
   "metadata": {},
   "outputs": [],
   "source": [
    "token_map = {}\n",
    "counter = 0\n",
    "for tokens in (wine_reviews['tokens'].values.flatten()):\n",
    "    for token in tokens:\n",
    "        if token not in token_map:\n",
    "            token_map[token] = counter\n",
    "            counter += 1\n",
    "maps.append(token_map)"
   ]
  },
  {
   "cell_type": "code",
   "execution_count": 10,
   "metadata": {},
   "outputs": [
    {
     "name": "stdout",
     "output_type": "stream",
     "text": [
      "(10000, 531)\n",
      "(10000, 23)\n",
      "(10000, 532)\n",
      "(10000, 33)\n",
      "(10000, 2)\n",
      "(10000, 71)\n"
     ]
    }
   ],
   "source": [
    "fields = ['designation', 'province', 'winery', 'variety','year', 'region_1']\n",
    "matrices = []\n",
    "for i in range(len(fields)):\n",
    "    field = fields[i]\n",
    "    m = maps[i]\n",
    "    matrix = np.zeros((wine_reviews.shape[0], len(m)))\n",
    "    \n",
    "    vals = wine_reviews[field].values\n",
    "    for j in range(len(vals)):\n",
    "        val = vals[j]\n",
    "        matrix[j, m[val]] = 1\n",
    "    \n",
    "    k = int(.1 * matrix.shape[1])\n",
    "    U, S, V_tran = svds(matrix, k=k)\n",
    "    V = V_tran.T\n",
    "    print (U.shape)\n",
    "    \n",
    "    matrices.append(U)"
   ]
  },
  {
   "cell_type": "code",
   "execution_count": 13,
   "metadata": {},
   "outputs": [],
   "source": [
    "m = token_map\n",
    "vals = wine_reviews['tokens'].values.flatten()\n",
    "matrix = np.zeros((wine_reviews.shape[0], len(m)))\n",
    "for j in range(len(vals)):\n",
    "        for token in vals[j]:\n",
    "            k = m[token]\n",
    "            matrix[j, k] = 1\n",
    "\n",
    "k = int(.05 * matrix.shape[1])\n",
    "U, S, V_tran = svds(matrix, k=k)\n",
    "V = V_tran.T\n"
   ]
  },
  {
   "cell_type": "code",
   "execution_count": 56,
   "metadata": {},
   "outputs": [],
   "source": [
    "matrices.append(U)\n",
    "matrices.append(wine_reviews['price'].values.reshape(10000,1))\n",
    "data = np.concatenate(matrices, axis=1)\n"
   ]
  },
  {
   "cell_type": "code",
   "execution_count": 57,
   "metadata": {},
   "outputs": [
    {
     "name": "stdout",
     "output_type": "stream",
     "text": [
      "(10000, 1958)\n"
     ]
    }
   ],
   "source": [
    "print(data.shape)"
   ]
  },
  {
   "cell_type": "code",
   "execution_count": 58,
   "metadata": {},
   "outputs": [],
   "source": [
    "X = data\n",
    "y = wine_reviews['points'].values\n",
    "X_train, X_test, y_train, y_test = train_test_split(X, y, test_size=0.33, random_state=42)"
   ]
  },
  {
   "cell_type": "code",
   "execution_count": 59,
   "metadata": {},
   "outputs": [
    {
     "data": {
      "text/plain": [
       "LogisticRegression(C=1.0, class_weight=None, dual=False, fit_intercept=True,\n",
       "          intercept_scaling=1, max_iter=100, multi_class='ovr', n_jobs=1,\n",
       "          penalty='l2', random_state=None, solver='liblinear', tol=0.0001,\n",
       "          verbose=0, warm_start=False)"
      ]
     },
     "execution_count": 59,
     "metadata": {},
     "output_type": "execute_result"
    }
   ],
   "source": [
    "logistic = LogisticRegression(penalty='l2')\n",
    "logistic.fit(X_train, y_train)"
   ]
  },
  {
   "cell_type": "code",
   "execution_count": 60,
   "metadata": {},
   "outputs": [
    {
     "data": {
      "text/plain": [
       "0.18848484848484848"
      ]
     },
     "execution_count": 60,
     "metadata": {},
     "output_type": "execute_result"
    }
   ],
   "source": [
    "logistic.score(X_test, y_test)"
   ]
  },
  {
   "cell_type": "code",
   "execution_count": null,
   "metadata": {},
   "outputs": [],
   "source": []
  },
  {
   "cell_type": "markdown",
   "metadata": {},
   "source": [
    "# Wine Composition Data"
   ]
  },
  {
   "cell_type": "code",
   "execution_count": 22,
   "metadata": {},
   "outputs": [
    {
     "data": {
      "text/html": [
       "<div>\n",
       "<style scoped>\n",
       "    .dataframe tbody tr th:only-of-type {\n",
       "        vertical-align: middle;\n",
       "    }\n",
       "\n",
       "    .dataframe tbody tr th {\n",
       "        vertical-align: top;\n",
       "    }\n",
       "\n",
       "    .dataframe thead th {\n",
       "        text-align: right;\n",
       "    }\n",
       "</style>\n",
       "<table border=\"1\" class=\"dataframe\">\n",
       "  <thead>\n",
       "    <tr style=\"text-align: right;\">\n",
       "      <th></th>\n",
       "      <th>fixed.acidity</th>\n",
       "      <th>volatile.acidity</th>\n",
       "      <th>citric.acid</th>\n",
       "      <th>residual.sugar</th>\n",
       "      <th>chlorides</th>\n",
       "      <th>free.sulfur.dioxide</th>\n",
       "      <th>total.sulfur.dioxide</th>\n",
       "      <th>density</th>\n",
       "      <th>pH</th>\n",
       "      <th>sulphates</th>\n",
       "      <th>alcohol</th>\n",
       "      <th>white</th>\n",
       "      <th>red</th>\n",
       "      <th>quality</th>\n",
       "    </tr>\n",
       "  </thead>\n",
       "  <tbody>\n",
       "    <tr>\n",
       "      <th>1</th>\n",
       "      <td>0.297521</td>\n",
       "      <td>0.413333</td>\n",
       "      <td>0.000000</td>\n",
       "      <td>0.019939</td>\n",
       "      <td>0.111296</td>\n",
       "      <td>0.034722</td>\n",
       "      <td>0.064516</td>\n",
       "      <td>0.206092</td>\n",
       "      <td>0.612403</td>\n",
       "      <td>0.191011</td>\n",
       "      <td>0.202899</td>\n",
       "      <td>0</td>\n",
       "      <td>1</td>\n",
       "      <td>5</td>\n",
       "    </tr>\n",
       "    <tr>\n",
       "      <th>2</th>\n",
       "      <td>0.330579</td>\n",
       "      <td>0.533333</td>\n",
       "      <td>0.000000</td>\n",
       "      <td>0.030675</td>\n",
       "      <td>0.147841</td>\n",
       "      <td>0.083333</td>\n",
       "      <td>0.140553</td>\n",
       "      <td>0.186813</td>\n",
       "      <td>0.372093</td>\n",
       "      <td>0.258427</td>\n",
       "      <td>0.260870</td>\n",
       "      <td>0</td>\n",
       "      <td>1</td>\n",
       "      <td>5</td>\n",
       "    </tr>\n",
       "    <tr>\n",
       "      <th>3</th>\n",
       "      <td>0.330579</td>\n",
       "      <td>0.453333</td>\n",
       "      <td>0.024096</td>\n",
       "      <td>0.026074</td>\n",
       "      <td>0.137874</td>\n",
       "      <td>0.048611</td>\n",
       "      <td>0.110599</td>\n",
       "      <td>0.190669</td>\n",
       "      <td>0.418605</td>\n",
       "      <td>0.241573</td>\n",
       "      <td>0.260870</td>\n",
       "      <td>0</td>\n",
       "      <td>1</td>\n",
       "      <td>5</td>\n",
       "    </tr>\n",
       "    <tr>\n",
       "      <th>4</th>\n",
       "      <td>0.611570</td>\n",
       "      <td>0.133333</td>\n",
       "      <td>0.337349</td>\n",
       "      <td>0.019939</td>\n",
       "      <td>0.109635</td>\n",
       "      <td>0.055556</td>\n",
       "      <td>0.124424</td>\n",
       "      <td>0.209948</td>\n",
       "      <td>0.341085</td>\n",
       "      <td>0.202247</td>\n",
       "      <td>0.260870</td>\n",
       "      <td>0</td>\n",
       "      <td>1</td>\n",
       "      <td>6</td>\n",
       "    </tr>\n",
       "    <tr>\n",
       "      <th>5</th>\n",
       "      <td>0.297521</td>\n",
       "      <td>0.413333</td>\n",
       "      <td>0.000000</td>\n",
       "      <td>0.019939</td>\n",
       "      <td>0.111296</td>\n",
       "      <td>0.034722</td>\n",
       "      <td>0.064516</td>\n",
       "      <td>0.206092</td>\n",
       "      <td>0.612403</td>\n",
       "      <td>0.191011</td>\n",
       "      <td>0.202899</td>\n",
       "      <td>0</td>\n",
       "      <td>1</td>\n",
       "      <td>5</td>\n",
       "    </tr>\n",
       "  </tbody>\n",
       "</table>\n",
       "</div>"
      ],
      "text/plain": [
       "   fixed.acidity  volatile.acidity  citric.acid  residual.sugar  chlorides  \\\n",
       "1       0.297521          0.413333     0.000000        0.019939   0.111296   \n",
       "2       0.330579          0.533333     0.000000        0.030675   0.147841   \n",
       "3       0.330579          0.453333     0.024096        0.026074   0.137874   \n",
       "4       0.611570          0.133333     0.337349        0.019939   0.109635   \n",
       "5       0.297521          0.413333     0.000000        0.019939   0.111296   \n",
       "\n",
       "   free.sulfur.dioxide  total.sulfur.dioxide   density        pH  sulphates  \\\n",
       "1             0.034722              0.064516  0.206092  0.612403   0.191011   \n",
       "2             0.083333              0.140553  0.186813  0.372093   0.258427   \n",
       "3             0.048611              0.110599  0.190669  0.418605   0.241573   \n",
       "4             0.055556              0.124424  0.209948  0.341085   0.202247   \n",
       "5             0.034722              0.064516  0.206092  0.612403   0.191011   \n",
       "\n",
       "    alcohol  white  red  quality  \n",
       "1  0.202899      0    1        5  \n",
       "2  0.260870      0    1        5  \n",
       "3  0.260870      0    1        5  \n",
       "4  0.260870      0    1        6  \n",
       "5  0.202899      0    1        5  "
      ]
     },
     "execution_count": 22,
     "metadata": {},
     "output_type": "execute_result"
    }
   ],
   "source": [
    "# Preprocess\n",
    "red_comp = pd.read_csv('wine-quality/wineQualityReds.csv', index_col=0)\n",
    "red_comp['red'] = 1\n",
    "red_comp['white'] = 0\n",
    "white_comp = pd.read_csv('wine-quality/wineQualityWhites.csv', index_col=0)\n",
    "white_comp['red'] = 0\n",
    "white_comp['white'] = 1\n",
    "comp = red_comp.append(white_comp)\n",
    "\n",
    "# Normalize combined data structure\n",
    "data = comp.iloc[:,0:-2]\n",
    "data.head()\n",
    "data_norm = (data - data.min()) / (data.max() - data.min())\n",
    "# #data_norm = (data-data.mean())/data.std()\n",
    "composition = data_norm\n",
    "composition['red'] = comp['red']\n",
    "composition['white'] = comp['white']\n",
    "composition['quality'] = comp['quality']\n",
    "\n",
    "cols = composition.columns.tolist()\n",
    "tmp = cols[-1]\n",
    "cols[-1] = cols[-3]\n",
    "cols[-3] = tmp\n",
    "composition = composition[cols]\n",
    "\n",
    "composition.head()"
   ]
  },
  {
   "cell_type": "markdown",
   "metadata": {},
   "source": [
    "### Split into Training and Testing Samples"
   ]
  },
  {
   "cell_type": "code",
   "execution_count": 23,
   "metadata": {},
   "outputs": [],
   "source": [
    "X = composition.iloc[:,0:-1]\n",
    "y = composition.iloc[:,-1]\n",
    "X_train, X_test, y_train, y_test = train_test_split(X, y, test_size=0.33, random_state=42)"
   ]
  },
  {
   "cell_type": "markdown",
   "metadata": {},
   "source": [
    "### Baseline K-NN"
   ]
  },
  {
   "cell_type": "code",
   "execution_count": 24,
   "metadata": {},
   "outputs": [
    {
     "name": "stdout",
     "output_type": "stream",
     "text": [
      "Using 1 Nearest Neighbors : Test Score is 0.605594\n",
      "Using 2 Nearest Neighbors : Test Score is 0.532867\n",
      "Using 3 Nearest Neighbors : Test Score is 0.538462\n",
      "Using 4 Nearest Neighbors : Test Score is 0.535664\n",
      "Using 5 Nearest Neighbors : Test Score is 0.553380\n",
      "Using 6 Nearest Neighbors : Test Score is 0.550583\n",
      "Using 7 Nearest Neighbors : Test Score is 0.555711\n",
      "Using 8 Nearest Neighbors : Test Score is 0.554779\n",
      "Using 9 Nearest Neighbors : Test Score is 0.550583\n",
      "Using 10 Nearest Neighbors : Test Score is 0.548252\n",
      "Using 11 Nearest Neighbors : Test Score is 0.546853\n",
      "Using 12 Nearest Neighbors : Test Score is 0.534732\n",
      "Using 13 Nearest Neighbors : Test Score is 0.538928\n",
      "Using 14 Nearest Neighbors : Test Score is 0.531469\n",
      "Using 15 Nearest Neighbors : Test Score is 0.535198\n",
      "Using 16 Nearest Neighbors : Test Score is 0.533800\n",
      "Using 17 Nearest Neighbors : Test Score is 0.531002\n",
      "Using 18 Nearest Neighbors : Test Score is 0.534266\n",
      "Using 19 Nearest Neighbors : Test Score is 0.538462\n"
     ]
    }
   ],
   "source": [
    "for i in range (1,20):\n",
    "    neighbors = KNeighborsClassifier(n_neighbors=i)\n",
    "    neighbors.fit(X_train, y_train) \n",
    "    score = neighbors.score(X_test, y_test)\n",
    "    print (\"Using %d Nearest Neighbors : Test Score is %f\" % (i, score))"
   ]
  },
  {
   "cell_type": "markdown",
   "metadata": {},
   "source": [
    "### Random Forests Approach"
   ]
  },
  {
   "cell_type": "code",
   "execution_count": 25,
   "metadata": {},
   "outputs": [
    {
     "name": "stdout",
     "output_type": "stream",
     "text": [
      "Forest Accuracy: 0.634965 \n",
      "\n"
     ]
    }
   ],
   "source": [
    "forest = RandomForestClassifier(max_depth=100, max_features=12, criterion='gini', random_state=0)\n",
    "forest.fit(X_train, y_train)\n",
    "print ('Forest Accuracy: %f \\n' % forest.score(X_test, y_test))"
   ]
  },
  {
   "cell_type": "code",
   "execution_count": 26,
   "metadata": {},
   "outputs": [
    {
     "name": "stdout",
     "output_type": "stream",
     "text": [
      "Feature: fixed.acidity is weighted at 0.076307\n",
      "Feature: volatile.acidity is weighted at 0.110024\n",
      "Feature: citric.acid is weighted at 0.071525\n",
      "Feature: residual.sugar is weighted at 0.082213\n",
      "Feature: chlorides is weighted at 0.082387\n",
      "Feature: free.sulfur.dioxide is weighted at 0.085802\n",
      "Feature: total.sulfur.dioxide is weighted at 0.095711\n",
      "Feature: density is weighted at 0.077123\n",
      "Feature: pH is weighted at 0.087605\n",
      "Feature: sulphates is weighted at 0.087070\n",
      "Feature: alcohol is weighted at 0.141901\n",
      "Feature: white is weighted at 0.001738\n",
      "Feature: red is weighted at 0.000593\n"
     ]
    }
   ],
   "source": [
    "cols = composition.columns.tolist()\n",
    "for i in range(len(forest.feature_importances_)):\n",
    "    print (\"Feature: %s is weighted at %f\" % (cols[i], forest.feature_importances_[i]))"
   ]
  },
  {
   "cell_type": "markdown",
   "metadata": {},
   "source": [
    "We still are not getting very good results, so let's try to simplify the problem:\n",
    "    1. Determining a score out of 10 is difficult\n",
    "        * It puts us under the assumption that there is a meaningful difference between a wine rated 5 and another\n",
    "              rated at a 6\n",
    "        * This might not be true\n",
    "        * The marginal difference in taste should not affect a beginner\n",
    "        \n",
    "    2. This means that we can simplify the labels into two buckets\n",
    "        * Good to Great wine rated 6-9\n",
    "        * Bad to Ok wine rated 3-5\n",
    "          \n",
    "        "
   ]
  },
  {
   "cell_type": "code",
   "execution_count": 27,
   "metadata": {},
   "outputs": [
    {
     "data": {
      "text/html": [
       "<div>\n",
       "<style scoped>\n",
       "    .dataframe tbody tr th:only-of-type {\n",
       "        vertical-align: middle;\n",
       "    }\n",
       "\n",
       "    .dataframe tbody tr th {\n",
       "        vertical-align: top;\n",
       "    }\n",
       "\n",
       "    .dataframe thead th {\n",
       "        text-align: right;\n",
       "    }\n",
       "</style>\n",
       "<table border=\"1\" class=\"dataframe\">\n",
       "  <thead>\n",
       "    <tr style=\"text-align: right;\">\n",
       "      <th></th>\n",
       "      <th>fixed.acidity</th>\n",
       "      <th>volatile.acidity</th>\n",
       "      <th>citric.acid</th>\n",
       "      <th>residual.sugar</th>\n",
       "      <th>chlorides</th>\n",
       "      <th>free.sulfur.dioxide</th>\n",
       "      <th>total.sulfur.dioxide</th>\n",
       "      <th>density</th>\n",
       "      <th>pH</th>\n",
       "      <th>sulphates</th>\n",
       "      <th>alcohol</th>\n",
       "      <th>white</th>\n",
       "      <th>red</th>\n",
       "      <th>quality</th>\n",
       "      <th>class</th>\n",
       "    </tr>\n",
       "  </thead>\n",
       "  <tbody>\n",
       "    <tr>\n",
       "      <th>1</th>\n",
       "      <td>0.297521</td>\n",
       "      <td>0.413333</td>\n",
       "      <td>0.000000</td>\n",
       "      <td>0.019939</td>\n",
       "      <td>0.111296</td>\n",
       "      <td>0.034722</td>\n",
       "      <td>0.064516</td>\n",
       "      <td>0.206092</td>\n",
       "      <td>0.612403</td>\n",
       "      <td>0.191011</td>\n",
       "      <td>0.202899</td>\n",
       "      <td>0</td>\n",
       "      <td>1</td>\n",
       "      <td>5</td>\n",
       "      <td>-1</td>\n",
       "    </tr>\n",
       "    <tr>\n",
       "      <th>2</th>\n",
       "      <td>0.330579</td>\n",
       "      <td>0.533333</td>\n",
       "      <td>0.000000</td>\n",
       "      <td>0.030675</td>\n",
       "      <td>0.147841</td>\n",
       "      <td>0.083333</td>\n",
       "      <td>0.140553</td>\n",
       "      <td>0.186813</td>\n",
       "      <td>0.372093</td>\n",
       "      <td>0.258427</td>\n",
       "      <td>0.260870</td>\n",
       "      <td>0</td>\n",
       "      <td>1</td>\n",
       "      <td>5</td>\n",
       "      <td>-1</td>\n",
       "    </tr>\n",
       "    <tr>\n",
       "      <th>3</th>\n",
       "      <td>0.330579</td>\n",
       "      <td>0.453333</td>\n",
       "      <td>0.024096</td>\n",
       "      <td>0.026074</td>\n",
       "      <td>0.137874</td>\n",
       "      <td>0.048611</td>\n",
       "      <td>0.110599</td>\n",
       "      <td>0.190669</td>\n",
       "      <td>0.418605</td>\n",
       "      <td>0.241573</td>\n",
       "      <td>0.260870</td>\n",
       "      <td>0</td>\n",
       "      <td>1</td>\n",
       "      <td>5</td>\n",
       "      <td>-1</td>\n",
       "    </tr>\n",
       "    <tr>\n",
       "      <th>4</th>\n",
       "      <td>0.611570</td>\n",
       "      <td>0.133333</td>\n",
       "      <td>0.337349</td>\n",
       "      <td>0.019939</td>\n",
       "      <td>0.109635</td>\n",
       "      <td>0.055556</td>\n",
       "      <td>0.124424</td>\n",
       "      <td>0.209948</td>\n",
       "      <td>0.341085</td>\n",
       "      <td>0.202247</td>\n",
       "      <td>0.260870</td>\n",
       "      <td>0</td>\n",
       "      <td>1</td>\n",
       "      <td>6</td>\n",
       "      <td>1</td>\n",
       "    </tr>\n",
       "    <tr>\n",
       "      <th>5</th>\n",
       "      <td>0.297521</td>\n",
       "      <td>0.413333</td>\n",
       "      <td>0.000000</td>\n",
       "      <td>0.019939</td>\n",
       "      <td>0.111296</td>\n",
       "      <td>0.034722</td>\n",
       "      <td>0.064516</td>\n",
       "      <td>0.206092</td>\n",
       "      <td>0.612403</td>\n",
       "      <td>0.191011</td>\n",
       "      <td>0.202899</td>\n",
       "      <td>0</td>\n",
       "      <td>1</td>\n",
       "      <td>5</td>\n",
       "      <td>-1</td>\n",
       "    </tr>\n",
       "  </tbody>\n",
       "</table>\n",
       "</div>"
      ],
      "text/plain": [
       "   fixed.acidity  volatile.acidity  citric.acid  residual.sugar  chlorides  \\\n",
       "1       0.297521          0.413333     0.000000        0.019939   0.111296   \n",
       "2       0.330579          0.533333     0.000000        0.030675   0.147841   \n",
       "3       0.330579          0.453333     0.024096        0.026074   0.137874   \n",
       "4       0.611570          0.133333     0.337349        0.019939   0.109635   \n",
       "5       0.297521          0.413333     0.000000        0.019939   0.111296   \n",
       "\n",
       "   free.sulfur.dioxide  total.sulfur.dioxide   density        pH  sulphates  \\\n",
       "1             0.034722              0.064516  0.206092  0.612403   0.191011   \n",
       "2             0.083333              0.140553  0.186813  0.372093   0.258427   \n",
       "3             0.048611              0.110599  0.190669  0.418605   0.241573   \n",
       "4             0.055556              0.124424  0.209948  0.341085   0.202247   \n",
       "5             0.034722              0.064516  0.206092  0.612403   0.191011   \n",
       "\n",
       "    alcohol  white  red  quality  class  \n",
       "1  0.202899      0    1        5     -1  \n",
       "2  0.260870      0    1        5     -1  \n",
       "3  0.260870      0    1        5     -1  \n",
       "4  0.260870      0    1        6      1  \n",
       "5  0.202899      0    1        5     -1  "
      ]
     },
     "execution_count": 27,
     "metadata": {},
     "output_type": "execute_result"
    }
   ],
   "source": [
    "def simplifyClassificationBinary(row):\n",
    "    if row['quality'] >= 6:\n",
    "        return 1\n",
    "    else:\n",
    "        return -1\n",
    "\n",
    "composition['class'] = composition.apply (lambda row: simplifyClassificationBinary(row), axis=1)\n",
    "composition.head()"
   ]
  },
  {
   "cell_type": "code",
   "execution_count": 28,
   "metadata": {},
   "outputs": [
    {
     "name": "stdout",
     "output_type": "stream",
     "text": [
      "We have 0.633061 of the data as good wine\n",
      "We have 0.366939 of the data as bad wine\n"
     ]
    }
   ],
   "source": [
    "print('We have %f of the data as good wine' % (np.sum(composition['class'] == 1)/float(6497)))\n",
    "print('We have %f of the data as bad wine' % (np.sum(composition['class'] == -1)/float(6497)))\n"
   ]
  },
  {
   "cell_type": "code",
   "execution_count": 29,
   "metadata": {},
   "outputs": [
    {
     "name": "stdout",
     "output_type": "stream",
     "text": [
      "Using 1 Nearest Neighbors : Test Accuracy is 0.761772\n",
      "Using 2 Nearest Neighbors : Test Accuracy is 0.700233\n",
      "Using 3 Nearest Neighbors : Test Accuracy is 0.741259\n",
      "Using 4 Nearest Neighbors : Test Accuracy is 0.720280\n",
      "Using 5 Nearest Neighbors : Test Accuracy is 0.749184\n",
      "Using 6 Nearest Neighbors : Test Accuracy is 0.737995\n",
      "Using 7 Nearest Neighbors : Test Accuracy is 0.749184\n",
      "Using 8 Nearest Neighbors : Test Accuracy is 0.748252\n",
      "Using 9 Nearest Neighbors : Test Accuracy is 0.755711\n",
      "Using 10 Nearest Neighbors : Test Accuracy is 0.741725\n",
      "Using 11 Nearest Neighbors : Test Accuracy is 0.750117\n",
      "Using 12 Nearest Neighbors : Test Accuracy is 0.739860\n",
      "Using 13 Nearest Neighbors : Test Accuracy is 0.746387\n",
      "Using 14 Nearest Neighbors : Test Accuracy is 0.737529\n",
      "Using 15 Nearest Neighbors : Test Accuracy is 0.751049\n",
      "Using 16 Nearest Neighbors : Test Accuracy is 0.741259\n",
      "Using 17 Nearest Neighbors : Test Accuracy is 0.745455\n",
      "Using 18 Nearest Neighbors : Test Accuracy is 0.738462\n",
      "Using 19 Nearest Neighbors : Test Accuracy is 0.744522\n"
     ]
    }
   ],
   "source": [
    "X = composition.iloc[:,0:-2]\n",
    "y = composition.iloc[:,-1]\n",
    "X_train, X_test, y_train, y_test = train_test_split(X, y, test_size=0.33, random_state=42)\n",
    "\n",
    "for i in range (1,20):\n",
    "    neighbors = KNeighborsClassifier(n_neighbors=i)\n",
    "    neighbors.fit(X_train, y_train) \n",
    "    score = neighbors.score(X_test, y_test)\n",
    "    print (\"Using %d Nearest Neighbors : Test Accuracy is %f\" % (i, score))"
   ]
  },
  {
   "cell_type": "code",
   "execution_count": 30,
   "metadata": {},
   "outputs": [
    {
     "name": "stdout",
     "output_type": "stream",
     "text": [
      "Forest Accuracy: 0.807925 \n",
      "\n",
      "Feature: fixed.acidity is weighted at 0.062797\n",
      "Feature: volatile.acidity is weighted at 0.110059\n",
      "Feature: citric.acid is weighted at 0.086491\n",
      "Feature: residual.sugar is weighted at 0.082673\n",
      "Feature: chlorides is weighted at 0.089271\n",
      "Feature: free.sulfur.dioxide is weighted at 0.079578\n",
      "Feature: total.sulfur.dioxide is weighted at 0.084125\n",
      "Feature: density is weighted at 0.107958\n",
      "Feature: pH is weighted at 0.077060\n",
      "Feature: sulphates is weighted at 0.088018\n",
      "Feature: alcohol is weighted at 0.122911\n",
      "Feature: white is weighted at 0.006512\n",
      "Feature: red is weighted at 0.002548\n"
     ]
    }
   ],
   "source": [
    "forest = RandomForestClassifier(max_depth=100, max_features=2, criterion='entropy', random_state=0)\n",
    "forest.fit(X_train, y_train)\n",
    "print ('Forest Accuracy: %f \\n' % forest.score(X_test, y_test))\n",
    "\n",
    "cols = composition.columns.tolist()\n",
    "for i in range(len(forest.feature_importances_)):\n",
    "    print (\"Feature: %s is weighted at %f\" % (cols[i], forest.feature_importances_[i]))"
   ]
  },
  {
   "cell_type": "markdown",
   "metadata": {},
   "source": [
    "Now we get 80% accuracy! Which is good, but consumers may still not put their faith in an application that can only tell them whether wine is good or bad 80% of time. In order to try to utilize the robustness of decision trees, we'll use a boosted tree and our KNN classifier as a linear combination."
   ]
  },
  {
   "cell_type": "code",
   "execution_count": 31,
   "metadata": {},
   "outputs": [
    {
     "data": {
      "text/plain": [
       "RandomForestClassifier(bootstrap=True, class_weight=None, criterion='entropy',\n",
       "            max_depth=100, max_features=2, max_leaf_nodes=None,\n",
       "            min_impurity_decrease=0.0, min_impurity_split=None,\n",
       "            min_samples_leaf=1, min_samples_split=2,\n",
       "            min_weight_fraction_leaf=0.0, n_estimators=10, n_jobs=1,\n",
       "            oob_score=False, random_state=0, verbose=0, warm_start=False)"
      ]
     },
     "execution_count": 31,
     "metadata": {},
     "output_type": "execute_result"
    }
   ],
   "source": [
    "boostedTree = GradientBoostingClassifier(max_depth=None, n_estimators = 100, max_features=3, criterion='mse', random_state=0)\n",
    "boostedTree.fit(X_train, y_train)\n",
    "forest = RandomForestClassifier(max_depth=100, max_features=2, criterion='entropy', random_state=0)\n",
    "forest.fit(X_train, y_train)"
   ]
  },
  {
   "cell_type": "code",
   "execution_count": 32,
   "metadata": {},
   "outputs": [
    {
     "data": {
      "text/plain": [
       "KNeighborsClassifier(algorithm='auto', leaf_size=30, metric='minkowski',\n",
       "           metric_params=None, n_jobs=1, n_neighbors=1, p=2,\n",
       "           weights='uniform')"
      ]
     },
     "execution_count": 32,
     "metadata": {},
     "output_type": "execute_result"
    }
   ],
   "source": [
    "neighbors = KNeighborsClassifier(n_neighbors=1)\n",
    "neighbors.fit(X_train, y_train)"
   ]
  },
  {
   "cell_type": "code",
   "execution_count": 33,
   "metadata": {},
   "outputs": [
    {
     "data": {
      "text/plain": [
       "0.8135198135198135"
      ]
     },
     "execution_count": 33,
     "metadata": {},
     "output_type": "execute_result"
    }
   ],
   "source": [
    "pred = (forest.predict_proba(X_test)) + (2*boostedTree.predict_proba(X_test)) + neighbors.predict_proba(X_test)\n",
    "y_pred = np.zeros(pred.shape[0])\n",
    "for i in range(len(pred)):\n",
    "    if pred[i,1] > pred[i,0]:\n",
    "        y_pred[i] = 1\n",
    "    else:\n",
    "        y_pred[i] = -1\n",
    "accuracy_score(y_test,y_pred)"
   ]
  },
  {
   "cell_type": "code",
   "execution_count": null,
   "metadata": {},
   "outputs": [],
   "source": []
  },
  {
   "cell_type": "code",
   "execution_count": null,
   "metadata": {},
   "outputs": [],
   "source": []
  }
 ],
 "metadata": {
  "kernelspec": {
   "display_name": "venv",
   "language": "python",
   "name": "venv"
  },
  "language_info": {
   "codemirror_mode": {
    "name": "ipython",
    "version": 3
   },
   "file_extension": ".py",
   "mimetype": "text/x-python",
   "name": "python",
   "nbconvert_exporter": "python",
   "pygments_lexer": "ipython3",
   "version": "3.6.4"
  }
 },
 "nbformat": 4,
 "nbformat_minor": 2
}
